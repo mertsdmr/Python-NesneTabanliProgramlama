{
 "cells": [
  {
   "cell_type": "markdown",
   "id": "b811fe5b",
   "metadata": {},
   "source": [
    "# Python (5 Haftalık Konu Anlatım)"
   ]
  },
  {
   "cell_type": "markdown",
   "id": "b5978112",
   "metadata": {},
   "source": [
    "## Hafta 2 Tekrarı"
   ]
  },
  {
   "cell_type": "markdown",
   "id": "7559c5cb",
   "metadata": {},
   "source": [
    "### Print Kullanımı"
   ]
  },
  {
   "cell_type": "code",
   "execution_count": 11,
   "id": "8da013a9",
   "metadata": {},
   "outputs": [
    {
     "name": "stdout",
     "output_type": "stream",
     "text": [
      "Merhaba Dünya\n"
     ]
    }
   ],
   "source": [
    "print(\"Merhaba Dünya\")"
   ]
  },
  {
   "cell_type": "markdown",
   "id": "8d97df2b",
   "metadata": {},
   "source": [
    "#### Not\n",
    "- Ekrana çıktı verirken konsolda çalışıyorsak print komutunu kullanmak zorundayız, ama Jupyter Notebook'da bu gerekmiyor.\n",
    "- Eğer çıktı işlemleri birden fazla yapılacaksa bu durumda en son satırdaki kod haricindeki tüm kodlarda (çıtkı yapıalacak kodlar) print komutunu kullanmamız gerekir, kullanmazsak yukarıda kalan çıktılar ekrana verilmez. "
   ]
  },
  {
   "cell_type": "code",
   "execution_count": 3,
   "id": "e5b8968c",
   "metadata": {},
   "outputs": [
    {
     "name": "stdout",
     "output_type": "stream",
     "text": [
      "10\n",
      "10\n"
     ]
    }
   ],
   "source": [
    "# Örnek:\n",
    "a = 10\n",
    "print(a)\n",
    "a\n",
    "a\n",
    "a\n",
    "print(a)"
   ]
  },
  {
   "cell_type": "code",
   "execution_count": 20,
   "id": "a2fa7e61",
   "metadata": {},
   "outputs": [
    {
     "name": "stdout",
     "output_type": "stream",
     "text": [
      "Kullanıcı Adı: User Parola: 1234\n",
      "Kullanıcı Adı: 1234 Parola: User\n",
      "Kullanıcı Adı: User Parola: 1234\n"
     ]
    }
   ],
   "source": [
    "# {} arasında belirtilen değere göre atama yapılabilir. {0}    -> .format(ilk deger)\n",
    "# Bunun için .format kullanılır.                        {name} -> .format(name=\"\")\n",
    "\n",
    "print(\"Kullanıcı Adı: {0} Parola: {1}\".format('User', \"1234\"))\n",
    "print(\"Kullanıcı Adı: {0} Parola: {1}\".format(\"1234\", 'User'))\n",
    "print(\"Kullanıcı Adı: {uname} Parola: {pasw}\".format(uname=\"User\", pasw = 1234))\n",
    "# \\n : Satır boşluğu bırakır\n",
    "# \\t : Tab boşluğu bırakır"
   ]
  },
  {
   "cell_type": "markdown",
   "id": "0b07606e",
   "metadata": {},
   "source": [
    "### Değişkenler\n",
    "Kabul edilmeyen degisken isim atama senaryolari:\n",
    "\n",
    "      sayi ile başlamak\n",
    "      boşluk içermek\n",
    "      \"*(/ gibi semboller icermek\n",
    "      rezerve edilmis isimleri kullanmak"
   ]
  },
  {
   "cell_type": "markdown",
   "id": "bbf7de25",
   "metadata": {},
   "source": [
    "### Veri Tipleri"
   ]
  },
  {
   "cell_type": "markdown",
   "id": "8a5a8e90",
   "metadata": {},
   "source": [
    "    Veri Tipi          Kısaltma                 Örnek\n",
    "\n",
    "    Integer            int                      3,10\n",
    "    Float              float                 1.5, 7.0\n",
    "    String             str                 \"Merha6a, '3'      \n",
    "    Boolean            bool                True, False\n",
    "    List               list            [1,2True, 'a', 1]\n",
    "    Set                set                {1,2,True, 'a'}\n",
    "    Dictionary         dict            {'isim': 'User, 'yas':23}\n",
    "    Tuple              tup                (1, 2, True)"
   ]
  },
  {
   "cell_type": "code",
   "execution_count": 4,
   "id": "503ecd01",
   "metadata": {},
   "outputs": [],
   "source": [
    "a1=10     #int\n",
    "a2=20.20  #float\n",
    "a3=\"otuz\" #string\n",
    "a4=[4,4,True,'a4']\n",
    "a5=True   #bool\n",
    "a6={1,2,'a6',False} #set\n",
    "a7={'name':'Mert','age':19} #dict\n",
    "a8=(5,6,7,'a8') #tuple"
   ]
  },
  {
   "cell_type": "code",
   "execution_count": 5,
   "id": "7c4ebc2e",
   "metadata": {},
   "outputs": [
    {
     "name": "stdout",
     "output_type": "stream",
     "text": [
      "<class 'int'> \n",
      " <class 'float'> \n",
      " <class 'str'> \n",
      " <class 'list'> \n",
      " <class 'bool'> \n",
      " <class 'set'> \n",
      " <class 'dict'> \n",
      " <class 'tuple'> \n",
      "\n"
     ]
    }
   ],
   "source": [
    "print(type(a1),\"\\n\",type(a2),\"\\n\",type(a3),\"\\n\",type(a4),\"\\n\",\n",
    "      type(a5),\"\\n\",type(a6),\"\\n\",type(a7),\"\\n\",type(a8),\"\\n\")"
   ]
  },
  {
   "cell_type": "markdown",
   "id": "dafc4840",
   "metadata": {},
   "source": [
    "### Sorgular: İf, Elif, Else"
   ]
  },
  {
   "cell_type": "code",
   "execution_count": 6,
   "id": "43ce9284",
   "metadata": {},
   "outputs": [
    {
     "name": "stdout",
     "output_type": "stream",
     "text": [
      "a 10'a eşittir\n"
     ]
    }
   ],
   "source": [
    "a = 10\n",
    "if a < 10:\n",
    "    print(\"a 10'dan küçüktür\")\n",
    "elif a == 10:\n",
    "    print(\"a 10'a eşittir\")\n",
    "else:\n",
    "    print(\"a 10'dan büyüktür\")"
   ]
  },
  {
   "cell_type": "markdown",
   "id": "8bb7b181",
   "metadata": {},
   "source": [
    "### Range"
   ]
  },
  {
   "cell_type": "markdown",
   "id": "54b51758",
   "metadata": {},
   "source": [
    "#### Artan Range: \n",
    "range(baslangıç_değeri,bitiş_değeri+1,artış_miktarı)"
   ]
  },
  {
   "cell_type": "markdown",
   "id": "8cc68b06",
   "metadata": {},
   "source": [
    "#### Azalan Range: \n",
    "\n",
    "range(baslangıç_değeri,bitiş_değeri-1,azalış_miktarı)"
   ]
  },
  {
   "cell_type": "markdown",
   "id": "a73a5a35",
   "metadata": {},
   "source": [
    "Not: \n",
    "Python dilinde iki tür tırnak işareti de kullanılabilir. Ama hangi tırnak türünü tercih ettiysek onunla devam etmeliyiz. Yani çift tırnak ile başladıysak çift tırnak ile bitirmeliyiz.\n",
    "\n",
    "print(\"Merhaba') -> bu kullanım hatalıdır.\n",
    "\n",
    "print(\"1980'den beridir\")\n",
    "print('Bana \"Bu iş çok kolay\" dedi')\n",
    "\n",
    "print(\"1980'den beridir\"+'Bana \"Bu iş çok kolay\" dedi')"
   ]
  },
  {
   "cell_type": "code",
   "execution_count": 8,
   "id": "741db3fc",
   "metadata": {},
   "outputs": [
    {
     "ename": "SyntaxError",
     "evalue": "EOL while scanning string literal (3726054750.py, line 4)",
     "output_type": "error",
     "traceback": [
      "\u001b[0;36m  File \u001b[0;32m\"/var/folders/__/680ncrcs6xsdlnmh1z3k4fz40000gn/T/ipykernel_1832/3726054750.py\"\u001b[0;36m, line \u001b[0;32m4\u001b[0m\n\u001b[0;31m    print(\"Merhaba')\u001b[0m\n\u001b[0m                    ^\u001b[0m\n\u001b[0;31mSyntaxError\u001b[0m\u001b[0;31m:\u001b[0m EOL while scanning string literal\n"
     ]
    }
   ],
   "source": [
    "# Hatalı kullanım\n",
    "# Başladığımız tırnak işareti ile bitirmeliyiz\n",
    "\n",
    "print(\"Merhaba')"
   ]
  },
  {
   "cell_type": "code",
   "execution_count": 14,
   "id": "17803f32",
   "metadata": {},
   "outputs": [],
   "source": [
    "# Birleştirme operatörü: +"
   ]
  },
  {
   "cell_type": "markdown",
   "id": "1e6c902f",
   "metadata": {},
   "source": [
    "String ifadelerde birleştirme işlemi olarak kullanılır."
   ]
  },
  {
   "cell_type": "code",
   "execution_count": 9,
   "id": "42bf23ef",
   "metadata": {},
   "outputs": [
    {
     "name": "stdout",
     "output_type": "stream",
     "text": [
      "1980'den beridir\n",
      "Bana \"Bu iş çok kolay\" dedi\n",
      "1980'den beridir bana \"Bu iş çok kolay\" diyor\n"
     ]
    }
   ],
   "source": [
    "print(\"1980'den beridir\")\n",
    "print('Bana \"Bu iş çok kolay\" dedi')\n",
    "\n",
    "print(\"1980'den beridir\"+' bana \"Bu iş çok kolay\" diyor')"
   ]
  },
  {
   "cell_type": "code",
   "execution_count": null,
   "id": "e2014786",
   "metadata": {},
   "outputs": [],
   "source": [
    "# end kullanımı"
   ]
  },
  {
   "cell_type": "markdown",
   "id": "cd8e742f",
   "metadata": {},
   "source": [
    "End ile satır sonu vermeden çift tırnak (\"\") içerisinde tanımladığımız karakteri getirebiliriz"
   ]
  },
  {
   "cell_type": "code",
   "execution_count": 10,
   "id": "c6df4e6f",
   "metadata": {},
   "outputs": [
    {
     "name": "stdout",
     "output_type": "stream",
     "text": [
      "1t\n",
      "3t\n",
      "5t\n",
      "7t\n",
      "9t\n"
     ]
    }
   ],
   "source": [
    "for i in range(1,11,2):\n",
    "    print(i,end=\"t\\n\")"
   ]
  },
  {
   "cell_type": "code",
   "execution_count": 11,
   "id": "d64afa05",
   "metadata": {},
   "outputs": [
    {
     "name": "stdout",
     "output_type": "stream",
     "text": [
      "10 8 6 4 2 "
     ]
    }
   ],
   "source": [
    "for i in range(10,1,-2):\n",
    "    print(i,end=\" \")"
   ]
  },
  {
   "cell_type": "markdown",
   "id": "568d5cf4",
   "metadata": {},
   "source": [
    "### Kullanıcıdan (klavyeden) Değer Alma"
   ]
  },
  {
   "cell_type": "code",
   "execution_count": 15,
   "id": "67b0a8b9",
   "metadata": {},
   "outputs": [
    {
     "name": "stdout",
     "output_type": "stream",
     "text": [
      "İsim: admin\n"
     ]
    }
   ],
   "source": [
    "isim = input(\"İsim: \")"
   ]
  },
  {
   "cell_type": "code",
   "execution_count": 16,
   "id": "82384e94",
   "metadata": {},
   "outputs": [
    {
     "name": "stdout",
     "output_type": "stream",
     "text": [
      "Dogum Yiliniz: ****\n"
     ]
    }
   ],
   "source": [
    "dogum_yili = input(\"Dogum Yiliniz: \")"
   ]
  },
  {
   "cell_type": "code",
   "execution_count": 16,
   "id": "17c30f34",
   "metadata": {},
   "outputs": [
    {
     "name": "stdout",
     "output_type": "stream",
     "text": [
      "<class 'str'> <class 'str'>\n"
     ]
    }
   ],
   "source": [
    "print(type(isim),type(dogum_yili))"
   ]
  },
  {
   "cell_type": "markdown",
   "id": "f54b50a5",
   "metadata": {},
   "source": [
    "- İnput varsayılan değeri string'dir. Eğer matematiksel bir işlem için kullanılacak ise dönüştürme işlemi yapılmalıdır."
   ]
  },
  {
   "cell_type": "code",
   "execution_count": 17,
   "id": "68aea8c0",
   "metadata": {},
   "outputs": [
    {
     "name": "stdout",
     "output_type": "stream",
     "text": [
      "Dogum Yiliniz: 2000\n",
      "Kullanıcının yaşı 18'e eşit veya büyüktür <class 'int'>\n"
     ]
    }
   ],
   "source": [
    "dogum_yili = int(input(\"Dogum Yiliniz: \"))\n",
    "vt1 = type(dogum_yili)\n",
    "if dogum_yili > 2004:\n",
    "    print(\"Kullanıcının yaşı 18'den küçüktür\",vt1)\n",
    "else:\n",
    "    print(\"Kullanıcının yaşı 18'e eşit veya büyüktür\",vt1)"
   ]
  },
  {
   "cell_type": "markdown",
   "id": "53ae07d0",
   "metadata": {},
   "source": [
    "- eval : evalution\n",
    "- eval ile bir değişken alıyorsak ve daha önce tanımladığımız bir değişkenin adını \n",
    "- yazarsak bu değişkenin içindeki değeri alarak işlemleri yürütür.\n",
    "- Değerin veri tipini otomatik olarak döüştürüp yazar. (String'de hata verir.)\n",
    "- Örnek: dogum_yili=int(input(\"Doğum Yılınız: \")) -> Burada veri tipini biz belirttik.\n",
    "- eval'le kullanmış olsaydık değeri otomatik belirlemişti. 100 = int, 100.1 = double"
   ]
  },
  {
   "cell_type": "code",
   "execution_count": 30,
   "id": "fc256b9d",
   "metadata": {},
   "outputs": [
    {
     "name": "stdout",
     "output_type": "stream",
     "text": [
      "Değer: (1,35,635)\n",
      "(1, 35, 635)\n",
      "<class 'tuple'>\n"
     ]
    }
   ],
   "source": [
    "deger = eval(input(\"Değer: \"))\n",
    "print(deger)\n",
    "print(type(deger))"
   ]
  },
  {
   "cell_type": "markdown",
   "id": "dc3a1b0a",
   "metadata": {},
   "source": [
    "- eval ile alınan varolan bir değişkenin adını yazarsak o değişkini dikkate alır\n",
    "- Bu durum güvenlik açığı oluşturur."
   ]
  },
  {
   "cell_type": "code",
   "execution_count": 22,
   "id": "bfe5f286",
   "metadata": {},
   "outputs": [
    {
     "name": "stdout",
     "output_type": "stream",
     "text": [
      "Parola: 1234\n",
      "1234\n"
     ]
    }
   ],
   "source": [
    "kullanici_sifre = eval(input(\"Parola: \"))\n",
    "print(kullanici_sifre)"
   ]
  },
  {
   "cell_type": "code",
   "execution_count": 24,
   "id": "4a18be08",
   "metadata": {},
   "outputs": [
    {
     "name": "stdout",
     "output_type": "stream",
     "text": [
      "Ad: kullanici_sifre\n",
      "1234\n"
     ]
    }
   ],
   "source": [
    "kullanici_ad = eval(input(\"Ad: \"))\n",
    "print(kullanici_sifre)"
   ]
  },
  {
   "cell_type": "code",
   "execution_count": 25,
   "id": "ef229dfd",
   "metadata": {},
   "outputs": [
    {
     "name": "stdout",
     "output_type": "stream",
     "text": [
      "Değer: {1,4,2,-1}\n"
     ]
    },
    {
     "data": {
      "text/plain": [
       "set"
      ]
     },
     "execution_count": 25,
     "metadata": {},
     "output_type": "execute_result"
    }
   ],
   "source": [
    "deger = eval(input(\"Değer: \"))\n",
    "type(deger)"
   ]
  },
  {
   "cell_type": "code",
   "execution_count": 26,
   "id": "ee2c1e4b",
   "metadata": {},
   "outputs": [
    {
     "name": "stdout",
     "output_type": "stream",
     "text": [
      "Değer: (1,2,3,4)\n"
     ]
    },
    {
     "data": {
      "text/plain": [
       "tuple"
      ]
     },
     "execution_count": 26,
     "metadata": {},
     "output_type": "execute_result"
    }
   ],
   "source": [
    "deger = eval(input(\"Değer: \"))\n",
    "type(deger)"
   ]
  },
  {
   "cell_type": "code",
   "execution_count": 27,
   "id": "10a8584a",
   "metadata": {},
   "outputs": [
    {
     "name": "stdout",
     "output_type": "stream",
     "text": [
      "Değer: [1,2,3,4,\"a\"]\n"
     ]
    },
    {
     "data": {
      "text/plain": [
       "list"
      ]
     },
     "execution_count": 27,
     "metadata": {},
     "output_type": "execute_result"
    }
   ],
   "source": [
    "deger = eval(input(\"Değer: \"))\n",
    "type(deger)"
   ]
  },
  {
   "cell_type": "code",
   "execution_count": 28,
   "id": "a7a9eac7",
   "metadata": {},
   "outputs": [
    {
     "name": "stdout",
     "output_type": "stream",
     "text": [
      "Değer: {'key': 1, 'value': 2}\n"
     ]
    },
    {
     "data": {
      "text/plain": [
       "dict"
      ]
     },
     "execution_count": 28,
     "metadata": {},
     "output_type": "execute_result"
    }
   ],
   "source": [
    "deger = eval(input(\"Değer: \"))\n",
    "type(deger)"
   ]
  },
  {
   "cell_type": "markdown",
   "id": "9a4fa378",
   "metadata": {},
   "source": [
    "Soru - Project Euler Problem 1\n",
    "\n",
    "10'un altındaki 3 veya 5'İn katı olan tüm doğal sayıları sıralarsak 3,5,6 ve 9 elde ederiz. Bu katların toplamı 23'tür. 1000'in altındaki 3 veya 5'in tüm katlarının toplamını bulunuz."
   ]
  },
  {
   "cell_type": "code",
   "execution_count": 33,
   "id": "1509f457",
   "metadata": {},
   "outputs": [
    {
     "name": "stdout",
     "output_type": "stream",
     "text": [
      "233168\n"
     ]
    }
   ],
   "source": [
    "toplam = 0\n",
    "for i in range(1,1000):\n",
    "    if (i%3==0) or (i%5==0):\n",
    "        toplam = toplam + i\n",
    "        # 3 veya 5 değerine tam bölünüyorsa bunu toplama dahil ediyoruz\n",
    "print(toplam)"
   ]
  },
  {
   "cell_type": "markdown",
   "id": "7f6ee755",
   "metadata": {},
   "source": [
    "## Hafta 3 Tekrarı"
   ]
  },
  {
   "cell_type": "markdown",
   "id": "b4e0f8b4",
   "metadata": {},
   "source": [
    "### Boolean (Bool)"
   ]
  },
  {
   "cell_type": "code",
   "execution_count": 1,
   "id": "63ad9783",
   "metadata": {},
   "outputs": [
    {
     "data": {
      "text/plain": [
       "bool"
      ]
     },
     "execution_count": 1,
     "metadata": {},
     "output_type": "execute_result"
    }
   ],
   "source": [
    "durum = True\n",
    "type(durum)"
   ]
  },
  {
   "cell_type": "markdown",
   "id": "ca726cb3",
   "metadata": {},
   "source": [
    "### String (str) - Özellikleri"
   ]
  },
  {
   "cell_type": "markdown",
   "id": "578d39f1",
   "metadata": {},
   "source": [
    "     P  |  Y  |  T  |  Y  |  O  |  N  |\n",
    "    -----------------------------------\n",
    "     0  |  1  |  2  |  3  |  4  |  5  |\n",
    "     0  | -5  | -4  | -3  | -4  | -5  |"
   ]
  },
  {
   "cell_type": "markdown",
   "id": "008cd01a",
   "metadata": {},
   "source": [
    "- String ile tanımlanmış bir değişkenin içerisindeki her bir karakter bir indeks değerine karşılık gelir."
   ]
  },
  {
   "cell_type": "code",
   "execution_count": 3,
   "id": "1d7ee14a",
   "metadata": {},
   "outputs": [],
   "source": [
    "strvar = \"Python\""
   ]
  },
  {
   "cell_type": "code",
   "execution_count": 8,
   "id": "ae47d8f2",
   "metadata": {},
   "outputs": [
    {
     "data": {
      "text/plain": [
       "('P', 'y', 't', 'h', 'o', 'n')"
      ]
     },
     "execution_count": 8,
     "metadata": {},
     "output_type": "execute_result"
    }
   ],
   "source": [
    "strvar[0],strvar[1],strvar[2],strvar[3],strvar[4],strvar[5]"
   ]
  },
  {
   "cell_type": "markdown",
   "id": "5af7b63c",
   "metadata": {},
   "source": [
    "degisken_adi[baslangic_degeri:bitis_degeri:artış_miktarı]\n",
    "\n",
    "degisken_adi[baslangic_degeri:bitis_degeri:azalış_miktarı] -> Yanlış olabilir !"
   ]
  },
  {
   "cell_type": "code",
   "execution_count": 20,
   "id": "24447026",
   "metadata": {},
   "outputs": [
    {
     "name": "stdout",
     "output_type": "stream",
     "text": [
      "B\n",
      "Beykoz\n",
      "Bey\n",
      "site\n",
      "Byo\n",
      "isetisrevinÜ zokyeB\n",
      "zokyeB\n",
      "isetisrevinÜ \n"
     ]
    }
   ],
   "source": [
    "univ = \"Beykoz Üniversitesi\"\n",
    "\n",
    "#B\n",
    "print(univ[0])\n",
    "\n",
    "#Beykoz Üniversitesi -> Beykoz\n",
    "print(univ[0:6])\n",
    "\n",
    "#Bey\n",
    "print(univ[0:3])\n",
    "\n",
    "#site\n",
    "print(univ[13:17])\n",
    "\n",
    "#Byo\n",
    "print(univ[0:6:2])\n",
    "\n",
    "#Tersten yaz\n",
    "print(univ[::-1])\n",
    "\n",
    "#zokyeB\n",
    "print(univ[5::-1])\n",
    "\n",
    "#isetisrevinÜ\n",
    "print(univ[:5:-1])"
   ]
  },
  {
   "cell_type": "code",
   "execution_count": 52,
   "id": "bbe2dc78",
   "metadata": {},
   "outputs": [
    {
     "name": "stdout",
     "output_type": "stream",
     "text": [
      "python c# c++\n"
     ]
    }
   ],
   "source": [
    "# Tek satırda birden çok değişken tanmımlama\n",
    "x, y, z = \"python\", \"c#\", \"c++\"\n",
    "print(x,y,z)"
   ]
  },
  {
   "cell_type": "code",
   "execution_count": 53,
   "id": "80edc02e",
   "metadata": {},
   "outputs": [
    {
     "name": "stdout",
     "output_type": "stream",
     "text": [
      "c# python\n"
     ]
    }
   ],
   "source": [
    "# Değerlerin yerini değiştirme\n",
    "x,y = y,x\n",
    "print(x,y)"
   ]
  },
  {
   "cell_type": "code",
   "execution_count": 54,
   "id": "7530eb22",
   "metadata": {},
   "outputs": [
    {
     "name": "stdout",
     "output_type": "stream",
     "text": [
      "Python Python Python\n"
     ]
    }
   ],
   "source": [
    "# Aynı değeri birden fazla değişkene tek satırda atama\n",
    "x=y=z=\"Python\"\n",
    "print(x,y,z)"
   ]
  },
  {
   "cell_type": "code",
   "execution_count": 55,
   "id": "98521132",
   "metadata": {},
   "outputs": [
    {
     "name": "stdout",
     "output_type": "stream",
     "text": [
      "#####\n"
     ]
    }
   ],
   "source": [
    "# Çarpma operatörünün string ile kullanimi\n",
    "kelime = '#'*5\n",
    "print(kelime)"
   ]
  },
  {
   "cell_type": "code",
   "execution_count": 56,
   "id": "1ef9f1cc",
   "metadata": {},
   "outputs": [
    {
     "name": "stdout",
     "output_type": "stream",
     "text": [
      "ABC\n"
     ]
    }
   ],
   "source": [
    "# Birleştirme Operatörü: +\n",
    "x,y,z='A','B','C'\n",
    "print(x+y+z)"
   ]
  },
  {
   "cell_type": "code",
   "execution_count": 60,
   "id": "53f7410c",
   "metadata": {},
   "outputs": [
    {
     "name": "stdout",
     "output_type": "stream",
     "text": [
      "15\n",
      "ABC 15\n",
      "ABC105\n"
     ]
    }
   ],
   "source": [
    "a,b=10,5\n",
    "print(a+b)\n",
    "\n",
    "# İnt ile String Değerleri Birleştirme\n",
    "print(x+y+z,a+b)\n",
    "print(x+y+z+str(a)+str(b))"
   ]
  },
  {
   "cell_type": "code",
   "execution_count": 11,
   "id": "5e979a78",
   "metadata": {},
   "outputs": [
    {
     "name": "stdout",
     "output_type": "stream",
     "text": [
      "BEYKOZ ÜNIVERSITESI\n",
      "beykoz üniversitesi\n"
     ]
    }
   ],
   "source": [
    "# Upper: Tüm karakterleri büyük yazar \n",
    "# Lower: Tüm karakterleri küçük yazar\n",
    "print(univ.upper())\n",
    "print(univ.lower())"
   ]
  },
  {
   "cell_type": "code",
   "execution_count": 13,
   "id": "b7572865",
   "metadata": {},
   "outputs": [
    {
     "name": "stdout",
     "output_type": "stream",
     "text": [
      "3\n"
     ]
    }
   ],
   "source": [
    "# Count: Belirtilen karakterin kaç adet olduğunu gösterir\n",
    "print(univ.count(\"e\"))"
   ]
  },
  {
   "cell_type": "code",
   "execution_count": 14,
   "id": "7fc6625b",
   "metadata": {},
   "outputs": [
    {
     "data": {
      "text/plain": [
       "1"
      ]
     },
     "execution_count": 14,
     "metadata": {},
     "output_type": "execute_result"
    }
   ],
   "source": [
    "# İndex: Belirtilen karakterin kaçıncı indexte tutulduğunu gösterir.\n",
    "univ.index(\"e\")"
   ]
  },
  {
   "cell_type": "code",
   "execution_count": 19,
   "id": "510a1f8f",
   "metadata": {},
   "outputs": [
    {
     "name": "stdout",
     "output_type": "stream",
     "text": [
      "Beykoz Üniversitesi\n",
      "['Beykoz', 'Üniversitesi']\n",
      "['Beykoz', 'Üniversitesi']\n",
      "['B', 'ykoz Üniversitesi']\n",
      "['B', 'ykoz Üniv', 'rsit', 'si']\n"
     ]
    }
   ],
   "source": [
    "# Split: Belirtilen karakteri silip, böler.\n",
    "print(univ)\n",
    "print(univ.split()) #varsayılan değeri boşluktur. \n",
    "print(univ.split(sep=\" \", maxsplit=1))\n",
    "print(univ.split(sep=\"e\", maxsplit=1))\n",
    "print(univ.split(sep=\"e\", maxsplit=3))"
   ]
  },
  {
   "cell_type": "markdown",
   "id": "759cd180",
   "metadata": {},
   "source": [
    "### Lists [Listeler]"
   ]
  },
  {
   "cell_type": "code",
   "execution_count": 74,
   "id": "4c81f808",
   "metadata": {},
   "outputs": [
    {
     "name": "stdout",
     "output_type": "stream",
     "text": [
      "[2, 3, 1, 2, 5, 6, 3] <class 'list'>\n"
     ]
    }
   ],
   "source": [
    "liste=[2,3,1,2,5,6,3]\n",
    "print(liste, type(liste))"
   ]
  },
  {
   "cell_type": "code",
   "execution_count": 75,
   "id": "53965057",
   "metadata": {},
   "outputs": [
    {
     "name": "stdout",
     "output_type": "stream",
     "text": [
      "[2, 3, 1, 2, 5, 6, 3, 4]\n",
      "[9, 2, 3, 1, 2, 5, 6, 3, 4]\n"
     ]
    }
   ],
   "source": [
    "# Değer ekleme: append, insert\n",
    "liste.append(4) #listenin son satırına ekler\n",
    "print(liste)\n",
    "\n",
    "liste.insert(0,9) #(index_değeri,eklenecek_değer)\n",
    "print(liste)"
   ]
  },
  {
   "cell_type": "code",
   "execution_count": 76,
   "id": "08fbcaf5",
   "metadata": {},
   "outputs": [
    {
     "name": "stdout",
     "output_type": "stream",
     "text": [
      "[9, 2, 3, 1, 2, 5, 6, 3, 4] [9, 2, 3, 1, 2, 5, 6, 3, 4]\n"
     ]
    }
   ],
   "source": [
    "# Atama\n",
    "liste2=liste \n",
    "#listenin kendisini liste2'de saklar\n",
    "#herhangi bir listede yapılan değiiklik diğer listeyi etkiler\n",
    "print(liste, liste2)"
   ]
  },
  {
   "cell_type": "code",
   "execution_count": 77,
   "id": "6582a093",
   "metadata": {},
   "outputs": [
    {
     "name": "stdout",
     "output_type": "stream",
     "text": [
      "[9, 2, 3, 1, 2, 5, 6, 3, 4, 10] [9, 2, 3, 1, 2, 5, 6, 3, 4, 10]\n"
     ]
    }
   ],
   "source": [
    "liste.append(10)\n",
    "print(liste, liste2)"
   ]
  },
  {
   "cell_type": "code",
   "execution_count": 72,
   "id": "eb4bbca3",
   "metadata": {},
   "outputs": [
    {
     "name": "stdout",
     "output_type": "stream",
     "text": [
      "[9, 2, 3, 1, 2, 5, 6, 3, 4, 10]\n"
     ]
    }
   ],
   "source": [
    "# Kopyalama: copy\n",
    "liste2 = liste.copy()\n",
    "print(liste2)"
   ]
  },
  {
   "cell_type": "code",
   "execution_count": 79,
   "id": "2fa2c301",
   "metadata": {},
   "outputs": [
    {
     "name": "stdout",
     "output_type": "stream",
     "text": [
      "[9, 2, 3, 1, 2, 5, 6, 3, 4, 10]\n",
      "[9, 3, 1, 2, 5, 6, 3, 4, 10]\n",
      "[3, 1, 2, 5, 6, 3, 4]\n"
     ]
    }
   ],
   "source": [
    "# Tanımlı değerleri silme: remove, pop\n",
    "print(liste2)\n",
    "\n",
    "liste2.remove(2)\n",
    "print(liste2)\n",
    "\n",
    "liste2.pop() # Varsayılan olarak listenin sonundaki değeri siler.\n",
    "liste2.pop(0)\n",
    "print(liste2)"
   ]
  },
  {
   "cell_type": "code",
   "execution_count": 73,
   "id": "c159bc7f",
   "metadata": {},
   "outputs": [
    {
     "name": "stdout",
     "output_type": "stream",
     "text": [
      "[]\n"
     ]
    }
   ],
   "source": [
    "# Tüm değerleri silme: clear\n",
    "liste2.clear()\n",
    "print(liste2)"
   ]
  },
  {
   "cell_type": "code",
   "execution_count": 80,
   "id": "255d189e",
   "metadata": {},
   "outputs": [
    {
     "name": "stdout",
     "output_type": "stream",
     "text": [
      "1\n",
      "7\n"
     ]
    }
   ],
   "source": [
    "# Count: listede tanımlı değerinin kaç adet olduğunu yazdırır\n",
    "# len: Eleman Sayını yazdırır. (Farklı veri tiplerindede geçerli)\n",
    "print(liste.count(5))\n",
    "print(len(liste))"
   ]
  },
  {
   "cell_type": "code",
   "execution_count": 81,
   "id": "ee68ac04",
   "metadata": {},
   "outputs": [],
   "source": [
    "isim=[\"Mert\",\"Gözde\",\"Mihran\",\"Yunus\",\"Şahin\",\"Tayfun\",\"Zeynep\"]"
   ]
  },
  {
   "cell_type": "code",
   "execution_count": null,
   "id": "6094b5ea",
   "metadata": {},
   "outputs": [],
   "source": [
    "# indeks değerlerinden listede tanımlı değerlere ulaşma"
   ]
  },
  {
   "cell_type": "code",
   "execution_count": 83,
   "id": "2a154b30",
   "metadata": {},
   "outputs": [
    {
     "data": {
      "text/plain": [
       "'Mert'"
      ]
     },
     "execution_count": 83,
     "metadata": {},
     "output_type": "execute_result"
    }
   ],
   "source": [
    "isim[0]"
   ]
  },
  {
   "cell_type": "code",
   "execution_count": 84,
   "id": "ae69531b",
   "metadata": {},
   "outputs": [
    {
     "data": {
      "text/plain": [
       "['Mert', 'Gözde', 'Mihran']"
      ]
     },
     "execution_count": 84,
     "metadata": {},
     "output_type": "execute_result"
    }
   ],
   "source": [
    "isim[0:3]"
   ]
  },
  {
   "cell_type": "code",
   "execution_count": 86,
   "id": "90e8f297",
   "metadata": {},
   "outputs": [
    {
     "data": {
      "text/plain": [
       "'er'"
      ]
     },
     "execution_count": 86,
     "metadata": {},
     "output_type": "execute_result"
    }
   ],
   "source": [
    "# Mert isminden 'er' değerini getir\n",
    "isim[0][1:3]"
   ]
  },
  {
   "cell_type": "code",
   "execution_count": 85,
   "id": "bfe8beb2",
   "metadata": {},
   "outputs": [
    {
     "data": {
      "text/plain": [
       "4"
      ]
     },
     "execution_count": 85,
     "metadata": {},
     "output_type": "execute_result"
    }
   ],
   "source": [
    "# Mert isminin karakter sayısını getir\n",
    "len(isim[0])"
   ]
  },
  {
   "cell_type": "code",
   "execution_count": 90,
   "id": "0bf1f57d",
   "metadata": {},
   "outputs": [],
   "source": [
    "# Sort: Listeyi küçükten büyüğe sıralar.\n",
    "# Reverse: Listeyi tersine çevirir."
   ]
  },
  {
   "cell_type": "code",
   "execution_count": 88,
   "id": "5f370b1a",
   "metadata": {},
   "outputs": [
    {
     "data": {
      "text/plain": [
       "['Gözde', 'Mert', 'Mihran', 'Tayfun', 'Yunus', 'Zeynep', 'Şahin']"
      ]
     },
     "execution_count": 88,
     "metadata": {},
     "output_type": "execute_result"
    }
   ],
   "source": [
    "isim.sort()\n",
    "isim"
   ]
  },
  {
   "cell_type": "markdown",
   "id": "a03d0953",
   "metadata": {},
   "source": [
    "- sort İngiliz alfabesine göre sıralama yapar.\n",
    "- ASCII kod tablosuna Türkçe karakterler sonradan eklendiği için harflar tablonun en sonundadır."
   ]
  },
  {
   "cell_type": "code",
   "execution_count": 89,
   "id": "a097e26d",
   "metadata": {},
   "outputs": [
    {
     "data": {
      "text/plain": [
       "['Şahin', 'Zeynep', 'Yunus', 'Tayfun', 'Mihran', 'Mert', 'Gözde']"
      ]
     },
     "execution_count": 89,
     "metadata": {},
     "output_type": "execute_result"
    }
   ],
   "source": [
    "isim.reverse()\n",
    "isim"
   ]
  },
  {
   "cell_type": "code",
   "execution_count": 91,
   "id": "c8000854",
   "metadata": {},
   "outputs": [
    {
     "data": {
      "text/plain": [
       "[1, 2, 3, 4, 5, 6, 7, 8]"
      ]
     },
     "execution_count": 91,
     "metadata": {},
     "output_type": "execute_result"
    }
   ],
   "source": [
    "# Birleştirme: Extend\n",
    "liste=[1,2,3,4]\n",
    "liste4=[5,6,7,8]\n",
    "liste.extend(liste4)\n",
    "liste"
   ]
  },
  {
   "cell_type": "code",
   "execution_count": 92,
   "id": "5c6a2d8a",
   "metadata": {},
   "outputs": [
    {
     "data": {
      "text/plain": [
       "[1, 2, 3, 4, 5, 6, 7, 8]"
      ]
     },
     "execution_count": 92,
     "metadata": {},
     "output_type": "execute_result"
    }
   ],
   "source": [
    "liste4.append(8)\n",
    "liste\n",
    "# Değişiklik diğer listeyi etkilemez"
   ]
  },
  {
   "cell_type": "code",
   "execution_count": 93,
   "id": "7eae4c63",
   "metadata": {},
   "outputs": [],
   "source": [
    "# Boş bir liste tanımlamak\n",
    "# Yöntem-1:\n",
    "liste=[]\n",
    "\n",
    "# Yöntem-2:\n",
    "liste=list()"
   ]
  },
  {
   "cell_type": "markdown",
   "id": "707d914b",
   "metadata": {},
   "source": [
    "### Demetler (Tuples)\n",
    "\n",
    "Tuple içerisindeki değer değiştirilemez."
   ]
  },
  {
   "cell_type": "code",
   "execution_count": 95,
   "id": "fb51b293",
   "metadata": {},
   "outputs": [],
   "source": [
    "demet=tuple()\n",
    "demet2=()"
   ]
  },
  {
   "cell_type": "code",
   "execution_count": 96,
   "id": "fb7ca6bc",
   "metadata": {},
   "outputs": [
    {
     "data": {
      "text/plain": [
       "(1, 5, 7, 6, 4, 1, 6, 5, 5)"
      ]
     },
     "execution_count": 96,
     "metadata": {},
     "output_type": "execute_result"
    }
   ],
   "source": [
    "demet=(1,5,7,6,4,1,6,5,5)\n",
    "demet"
   ]
  },
  {
   "cell_type": "code",
   "execution_count": 97,
   "id": "e36d1e69",
   "metadata": {},
   "outputs": [
    {
     "data": {
      "text/plain": [
       "3"
      ]
     },
     "execution_count": 97,
     "metadata": {},
     "output_type": "execute_result"
    }
   ],
   "source": [
    "demet.count(5)"
   ]
  },
  {
   "cell_type": "code",
   "execution_count": 98,
   "id": "b7ad9227",
   "metadata": {},
   "outputs": [
    {
     "data": {
      "text/plain": [
       "1"
      ]
     },
     "execution_count": 98,
     "metadata": {},
     "output_type": "execute_result"
    }
   ],
   "source": [
    "demet.index(5)"
   ]
  },
  {
   "cell_type": "code",
   "execution_count": 99,
   "id": "4a2f9ff6",
   "metadata": {},
   "outputs": [
    {
     "data": {
      "text/plain": [
       "(6, 4, 1)"
      ]
     },
     "execution_count": 99,
     "metadata": {},
     "output_type": "execute_result"
    }
   ],
   "source": [
    "demet[3:6] #3. indeksten 5. indekse kadar olan değerleri getirir"
   ]
  },
  {
   "cell_type": "code",
   "execution_count": null,
   "id": "d63aafb4",
   "metadata": {},
   "outputs": [],
   "source": [
    "# Sayı Bulma Oyunu"
   ]
  },
  {
   "cell_type": "code",
   "execution_count": null,
   "id": "5bfe0aad",
   "metadata": {},
   "outputs": [],
   "source": []
  },
  {
   "cell_type": "markdown",
   "id": "d83e7493",
   "metadata": {},
   "source": [
    "## Hafta 4 Tekrarı"
   ]
  },
  {
   "cell_type": "markdown",
   "id": "ff39f725",
   "metadata": {},
   "source": [
    "#### Sets {Kümeler}\n",
    "- Kümedeki değerler indeksli ve sıralı değildir.\n",
    "- Değerler tekrar edemez (Yinelenen değerler tek bir kez alınır)\n",
    "- Değer eklenebilir veya silinebilir ama değerlerden herhangi biri değiştirilemez "
   ]
  },
  {
   "cell_type": "code",
   "execution_count": 23,
   "id": "aa676854",
   "metadata": {},
   "outputs": [
    {
     "name": "stdout",
     "output_type": "stream",
     "text": [
      "{2, 3, 4, 6, 7, 8} <class 'set'>\n"
     ]
    }
   ],
   "source": [
    "kume = {2,8,6,4,7,3,2}\n",
    "print(kume,type(kume))"
   ]
  },
  {
   "cell_type": "code",
   "execution_count": 21,
   "id": "b82a8436",
   "metadata": {},
   "outputs": [],
   "source": [
    "kume2={8,2,4,5}"
   ]
  },
  {
   "cell_type": "code",
   "execution_count": 25,
   "id": "6aa2d299",
   "metadata": {},
   "outputs": [
    {
     "data": {
      "text/plain": [
       "{0, 2, 3, 4, 6, 7, 8}"
      ]
     },
     "execution_count": 25,
     "metadata": {},
     "output_type": "execute_result"
    }
   ],
   "source": [
    "# Add: Değer ekleme\n",
    "kume.add(0)\n",
    "kume"
   ]
  },
  {
   "cell_type": "code",
   "execution_count": 26,
   "id": "3940ce6e",
   "metadata": {},
   "outputs": [
    {
     "data": {
      "text/plain": [
       "{0, 2, 3, 4, 6, 7, 8}"
      ]
     },
     "execution_count": 26,
     "metadata": {},
     "output_type": "execute_result"
    }
   ],
   "source": [
    "# Copy: Kopyalama\n",
    "kume2 = kume.copy()\n",
    "kume2"
   ]
  },
  {
   "cell_type": "code",
   "execution_count": 27,
   "id": "9d086a89",
   "metadata": {},
   "outputs": [],
   "source": [
    "# Clear: Tüm değerleri siler\n",
    "kume2.clear()"
   ]
  },
  {
   "cell_type": "code",
   "execution_count": 28,
   "id": "0d17749f",
   "metadata": {},
   "outputs": [
    {
     "data": {
      "text/plain": [
       "set()"
      ]
     },
     "execution_count": 28,
     "metadata": {},
     "output_type": "execute_result"
    }
   ],
   "source": [
    "kume2"
   ]
  },
  {
   "cell_type": "code",
   "execution_count": 29,
   "id": "ced7a18c",
   "metadata": {},
   "outputs": [
    {
     "data": {
      "text/plain": [
       "({0, 2, 3, 4, 6, 7, 8}, {1, 2, 3, 5, 6, 7})"
      ]
     },
     "execution_count": 29,
     "metadata": {},
     "output_type": "execute_result"
    }
   ],
   "source": [
    "kume2={1,5,3,6,7,2}\n",
    "kume, kume2"
   ]
  },
  {
   "cell_type": "code",
   "execution_count": 30,
   "id": "78abe086",
   "metadata": {},
   "outputs": [
    {
     "data": {
      "text/plain": [
       "{0, 4, 8}"
      ]
     },
     "execution_count": 30,
     "metadata": {},
     "output_type": "execute_result"
    }
   ],
   "source": [
    "# Difference: farklı olan değerleri getirir.\n",
    "# kume'nin kume2'den farklı olan değerleri getirdi\n",
    "kume.difference(kume2)"
   ]
  },
  {
   "cell_type": "code",
   "execution_count": 31,
   "id": "aa56f1f3",
   "metadata": {},
   "outputs": [
    {
     "data": {
      "text/plain": [
       "{1, 5}"
      ]
     },
     "execution_count": 31,
     "metadata": {},
     "output_type": "execute_result"
    }
   ],
   "source": [
    "# kume2'nin kume'den farklı olan değerleri getirdi\n",
    "kume2.difference(kume)"
   ]
  },
  {
   "cell_type": "code",
   "execution_count": 32,
   "id": "ea613c27",
   "metadata": {},
   "outputs": [
    {
     "data": {
      "text/plain": [
       "{0, 1, 2, 3, 4, 5, 6, 7, 8}"
      ]
     },
     "execution_count": 32,
     "metadata": {},
     "output_type": "execute_result"
    }
   ],
   "source": [
    "# Union: Birleşim\n",
    "# kume ile kume2'yi birleştirir\n",
    "kume.union(kume2)"
   ]
  },
  {
   "cell_type": "code",
   "execution_count": 33,
   "id": "c93fe598",
   "metadata": {},
   "outputs": [
    {
     "data": {
      "text/plain": [
       "{0, 1, 2, 3, 4, 5, 6, 7, 8}"
      ]
     },
     "execution_count": 33,
     "metadata": {},
     "output_type": "execute_result"
    }
   ],
   "source": [
    "# kume2 ile kume'yi birleştirir\n",
    "kume2.union(kume)"
   ]
  },
  {
   "cell_type": "code",
   "execution_count": 36,
   "id": "8528d9c5",
   "metadata": {},
   "outputs": [
    {
     "data": {
      "text/plain": [
       "{2, 3, 6, 7}"
      ]
     },
     "execution_count": 36,
     "metadata": {},
     "output_type": "execute_result"
    }
   ],
   "source": [
    "# İntersection: Kesişim\n",
    "# kume ile kume2'nin kesişimlerini getirir\n",
    "kume.intersection(kume2)"
   ]
  },
  {
   "cell_type": "code",
   "execution_count": 37,
   "id": "8942faed",
   "metadata": {},
   "outputs": [
    {
     "data": {
      "text/plain": [
       "{2, 3, 6, 7}"
      ]
     },
     "execution_count": 37,
     "metadata": {},
     "output_type": "execute_result"
    }
   ],
   "source": [
    "# kume2 ile kume'nin kesişimlerini getirir\n",
    "kume2.intersection(kume)"
   ]
  },
  {
   "cell_type": "code",
   "execution_count": 45,
   "id": "c6336ba1",
   "metadata": {},
   "outputs": [
    {
     "name": "stdout",
     "output_type": "stream",
     "text": [
      "{6, 7}\n",
      "{7}\n",
      "set()\n"
     ]
    }
   ],
   "source": [
    "# Pop: Kümenin ilk elamanını kaldırır.\n",
    "# Remove: Kümenin belirtelen elamınını kaldırır.\n",
    "# Discard: Kümenin belirtelen elamınını kaldırır.\n",
    "print(kume)\n",
    "kume.pop()\n",
    "print(kume)\n",
    "kume.pop()\n",
    "print(kume)\n",
    "\n",
    "# Bir kez daha çalıştırıldığı için değerler fazladan silindi..."
   ]
  },
  {
   "cell_type": "code",
   "execution_count": 42,
   "id": "86c6ff96",
   "metadata": {},
   "outputs": [
    {
     "data": {
      "text/plain": [
       "{6, 7, 8}"
      ]
     },
     "execution_count": 42,
     "metadata": {},
     "output_type": "execute_result"
    }
   ],
   "source": [
    "kume.remove(4)\n",
    "kume"
   ]
  },
  {
   "cell_type": "code",
   "execution_count": 44,
   "id": "2447a933",
   "metadata": {},
   "outputs": [
    {
     "data": {
      "text/plain": [
       "{6, 7}"
      ]
     },
     "execution_count": 44,
     "metadata": {},
     "output_type": "execute_result"
    }
   ],
   "source": [
    "kume.discard(8)\n",
    "kume"
   ]
  },
  {
   "cell_type": "code",
   "execution_count": null,
   "id": "ac7f3add",
   "metadata": {},
   "outputs": [],
   "source": [
    "# Atama: =\n",
    "# Kopyalama: copy"
   ]
  },
  {
   "cell_type": "code",
   "execution_count": 46,
   "id": "33d845bc",
   "metadata": {},
   "outputs": [
    {
     "data": {
      "text/plain": [
       "({3, 5, 6, 11}, {3, 5, 6, 11})"
      ]
     },
     "execution_count": 46,
     "metadata": {},
     "output_type": "execute_result"
    }
   ],
   "source": [
    "sayilar = {11,3,5,6}\n",
    "sayilar2 = sayilar\n",
    "sayilar,sayilar2\n",
    "# Bu şekilde atama işlemi yapılırsa kümelerde yapılacak işlemlerde\n",
    "# kümelerde bu değişiklikten etkilenirler"
   ]
  },
  {
   "cell_type": "code",
   "execution_count": 47,
   "id": "b0988762",
   "metadata": {},
   "outputs": [
    {
     "data": {
      "text/plain": [
       "({3, 5, 6}, {3, 5, 6})"
      ]
     },
     "execution_count": 47,
     "metadata": {},
     "output_type": "execute_result"
    }
   ],
   "source": [
    "sayilar2.pop()\n",
    "sayilar,sayilar2"
   ]
  },
  {
   "cell_type": "code",
   "execution_count": 48,
   "id": "d1ba3089",
   "metadata": {},
   "outputs": [],
   "source": [
    "sayilar = {11,3,5,6,4}\n",
    "sayilar2 = sayilar.copy()"
   ]
  },
  {
   "cell_type": "code",
   "execution_count": 49,
   "id": "0e9dfc53",
   "metadata": {},
   "outputs": [
    {
     "data": {
      "text/plain": [
       "({3, 4, 5, 6, 11}, {3, 4, 5, 6, 11})"
      ]
     },
     "execution_count": 49,
     "metadata": {},
     "output_type": "execute_result"
    }
   ],
   "source": [
    "sayilar,sayilar2"
   ]
  },
  {
   "cell_type": "markdown",
   "id": "54dd91d1",
   "metadata": {},
   "source": [
    "- Örnek\n",
    "- 1. adım: Rastgele birbirinden farklı 4 tane 1-40 arasında sayı üretelim\n",
    "- 2. adım: Kullanıcıdan alacağımız 1-40 arasında 6 farklı değerin bu rastgele sayılar arasında kaç tanesinin olduğunu ekrana yazdıralım\n",
    "- Kullanıcı aynı değeri tekrar ederse o değer yerine yeni bir değer alalım"
   ]
  },
  {
   "cell_type": "code",
   "execution_count": 20,
   "id": "e4871c4b",
   "metadata": {},
   "outputs": [
    {
     "name": "stdout",
     "output_type": "stream",
     "text": [
      "Sayı: 5\n",
      "Sayı: 6\n",
      "Sayı: 7\n",
      "Sayı: 8\n",
      "Sayı: 9\n",
      "Sayı: 10\n",
      "Girdiğiniz sayılardan 3 tanesi sayılar kümesinde bulundu\n",
      "Bilinenler:  {9, 10, 6}\n",
      "Sayılar:  {32, 1, 2, 33, 4, 38, 6, 9, 10, 13, 20, 27, 28}\n"
     ]
    }
   ],
   "source": [
    "from random import randint\n",
    "sayilar=set()\n",
    "tahminler=set()\n",
    "adet=6\n",
    "while True:\n",
    "    for i in range(1,15):\n",
    "        sayilar.add(randint(1,40))\n",
    "    while adet>0:\n",
    "        sayi=int(input(\"Sayı: \"))\n",
    "        if sayi in tahminler:\n",
    "            print(\"Aynı Sayıyı Tekrar Giremezsiniz!\")\n",
    "            adet+=1\n",
    "            adet-=1\n",
    "        else:\n",
    "            tahminler.add(sayi)\n",
    "            adet-=1\n",
    "    break\n",
    "bilinenler = tahminler.intersection(sayilar)\n",
    "print(\"Girdiğiniz sayılardan {0} tanesi sayılar kümesinde bulundu\".format(len(bilinenler)))\n",
    "print(\"Bilinenler: \", bilinenler)\n",
    "print(\"Sayılar: \", sayilar)"
   ]
  },
  {
   "cell_type": "code",
   "execution_count": 14,
   "id": "93089767",
   "metadata": {},
   "outputs": [
    {
     "data": {
      "text/plain": [
       "{3, 4, 7, 22}"
      ]
     },
     "execution_count": 14,
     "metadata": {},
     "output_type": "execute_result"
    }
   ],
   "source": [
    "sayilar"
   ]
  },
  {
   "cell_type": "markdown",
   "id": "09c43edb",
   "metadata": {},
   "source": [
    "## Hafta 5"
   ]
  },
  {
   "cell_type": "markdown",
   "id": "b6c21a30",
   "metadata": {},
   "source": [
    "### Dictionaries (Sözlükler)"
   ]
  },
  {
   "cell_type": "code",
   "execution_count": null,
   "id": "be8f806a",
   "metadata": {},
   "outputs": [],
   "source": [
    "# sozluk={'key1':'value1', 'key2':'value2', 'key3':'value3'}"
   ]
  },
  {
   "cell_type": "code",
   "execution_count": 57,
   "id": "5dc899ad",
   "metadata": {},
   "outputs": [
    {
     "data": {
      "text/plain": [
       "({'ad': 'Mert', 'soyad': 'S.Demir', 'yas': 19}, dict)"
      ]
     },
     "execution_count": 57,
     "metadata": {},
     "output_type": "execute_result"
    }
   ],
   "source": [
    "sozluk={'ad':'Mert','soyad':'S.Demir','yas':19}\n",
    "sozluk, type(sozluk)"
   ]
  },
  {
   "cell_type": "code",
   "execution_count": 56,
   "id": "5c42131d",
   "metadata": {},
   "outputs": [
    {
     "data": {
      "text/plain": [
       "({'ad': 'Mert', 'soyad': 'S.Demir', 'yas': 19}, dict)"
      ]
     },
     "execution_count": 56,
     "metadata": {},
     "output_type": "execute_result"
    }
   ],
   "source": [
    "sozluk={\n",
    "    'ad':'Mert',\n",
    "    'soyad':'S.Demir',\n",
    "    'yas':19\n",
    "}\n",
    "sozluk, type(sozluk)"
   ]
  },
  {
   "cell_type": "code",
   "execution_count": 60,
   "id": "c589a0af",
   "metadata": {},
   "outputs": [
    {
     "data": {
      "text/plain": [
       "({'ad': 'Mert', 'soyad': 'S.Demir', 'yas': 19, 'bolum': 'Bilg.Müh.'},\n",
       " {'ad': 'Mert', 'soyad': 'S.Demir', 'yas': 19, 'bolum': 'Bilg.Müh.'})"
      ]
     },
     "execution_count": 60,
     "metadata": {},
     "output_type": "execute_result"
    }
   ],
   "source": [
    "sozluk2 = sozluk\n",
    "sozluk[\"bolum\"]=\"Bilg.Müh.\"\n",
    "sozluk,sozluk2\n",
    "\n",
    "# sozluk dictinin içerisine bolum adında bir key oluşturup,\n",
    "# Bilg.Müh. değerini atadı"
   ]
  },
  {
   "cell_type": "code",
   "execution_count": 64,
   "id": "d173abf2",
   "metadata": {},
   "outputs": [
    {
     "data": {
      "text/plain": [
       "({'ad': 'Mert', 'soyad': 'S.Demir', 'yas': 19, 'bolum': 'Bilg. Öğr.'},\n",
       " {'ad': 'Mert', 'soyad': 'S.Demir', 'yas': 19, 'bolum': 'Bilg. Öğr.'})"
      ]
     },
     "execution_count": 64,
     "metadata": {},
     "output_type": "execute_result"
    }
   ],
   "source": [
    "sozluk[\"bolum\"]=\"Bilg. Öğr.\"\n",
    "sozluk,sozluk2\n",
    "# Key seçilip içerisindeki değer değiştirilebilir"
   ]
  },
  {
   "cell_type": "markdown",
   "id": "0eeaaac3",
   "metadata": {},
   "source": [
    "#### Şifreleme Projesinde Kullanılacak ! (Kişisel)\n",
    "- Dict içerisindeki değerin veri tipinin değiştirilmesi:\n",
    "- dictName[\"keyName\"] = [list], (tuple) ... "
   ]
  },
  {
   "cell_type": "code",
   "execution_count": 65,
   "id": "a5407bf1",
   "metadata": {},
   "outputs": [
    {
     "data": {
      "text/plain": [
       "({'ad': 'Mert',\n",
       "  'soyad': 'S.Demir',\n",
       "  'yas': 19,\n",
       "  'bolum': ['Bilg. Öğr.', 'Bilg. Müh.']},\n",
       " {'ad': 'Mert',\n",
       "  'soyad': 'S.Demir',\n",
       "  'yas': 19,\n",
       "  'bolum': ['Bilg. Öğr.', 'Bilg. Müh.']})"
      ]
     },
     "execution_count": 65,
     "metadata": {},
     "output_type": "execute_result"
    }
   ],
   "source": [
    "# Bu yapıyı bir listeye, sete veya başka bir veri tipine alabiliriz\n",
    "sozluk[\"bolum\"]=[\"Bilg. Öğr.\",\"Bilg. Müh.\"]\n",
    "sozluk, sozluk2"
   ]
  },
  {
   "cell_type": "code",
   "execution_count": 68,
   "id": "b8821f73",
   "metadata": {},
   "outputs": [
    {
     "name": "stdout",
     "output_type": "stream",
     "text": [
      "<class 'list'>\n",
      "<class 'str'>\n"
     ]
    }
   ],
   "source": [
    "print(type(sozluk[\"bolum\"]))\n",
    "print(type(sozluk[\"ad\"]))"
   ]
  },
  {
   "cell_type": "code",
   "execution_count": 69,
   "id": "5f67c7d8",
   "metadata": {},
   "outputs": [],
   "source": [
    "sozluk3=sozluk2.copy()\n",
    "sozluk2[\"yas\"] = 25"
   ]
  },
  {
   "cell_type": "code",
   "execution_count": 72,
   "id": "e21a7a5d",
   "metadata": {},
   "outputs": [
    {
     "data": {
      "text/plain": [
       "({'ad': 'Mert',\n",
       "  'soyad': 'S.Demir',\n",
       "  'yas': 25,\n",
       "  'bolum': ['Bilg. Öğr.', 'Bilg. Müh.']},\n",
       " {'ad': 'Mert',\n",
       "  'soyad': 'S.Demir',\n",
       "  'yas': 19,\n",
       "  'bolum': ['Bilg. Öğr.', 'Bilg. Müh.']})"
      ]
     },
     "execution_count": 72,
     "metadata": {},
     "output_type": "execute_result"
    }
   ],
   "source": [
    "sozluk2,sozluk3"
   ]
  },
  {
   "cell_type": "code",
   "execution_count": 73,
   "id": "a1690e2b",
   "metadata": {},
   "outputs": [
    {
     "data": {
      "text/plain": [
       "{}"
      ]
     },
     "execution_count": 73,
     "metadata": {},
     "output_type": "execute_result"
    }
   ],
   "source": [
    "sozluk3.clear()\n",
    "sozluk3"
   ]
  },
  {
   "cell_type": "code",
   "execution_count": null,
   "id": "1e198515",
   "metadata": {},
   "outputs": [],
   "source": [
    "# Fromkeys: key ve value değerlerini belirtilen yerden alıp,\n",
    "# içerisine atar."
   ]
  },
  {
   "cell_type": "code",
   "execution_count": 74,
   "id": "c4504887",
   "metadata": {},
   "outputs": [
    {
     "name": "stdout",
     "output_type": "stream",
     "text": [
      "{'key1': (0, 1, 2), 'key2': (0, 1, 2), 'key3': (0, 1, 2)}\n"
     ]
    }
   ],
   "source": [
    "x = ('key1', 'key2', 'key3')\n",
    "y = 0,1,2\n",
    "sozluk3 = dict.fromkeys(x,y)\n",
    "print(sozluk3)"
   ]
  },
  {
   "cell_type": "code",
   "execution_count": null,
   "id": "9e79b4cc",
   "metadata": {},
   "outputs": [],
   "source": [
    "# Get"
   ]
  },
  {
   "cell_type": "code",
   "execution_count": 77,
   "id": "336b5bc1",
   "metadata": {},
   "outputs": [
    {
     "data": {
      "text/plain": [
       "['Bilg. Öğr.', 'Bilg. Müh.']"
      ]
     },
     "execution_count": 77,
     "metadata": {},
     "output_type": "execute_result"
    }
   ],
   "source": [
    "sozluk.get('bolum')"
   ]
  },
  {
   "cell_type": "markdown",
   "id": "20599de6",
   "metadata": {},
   "source": [
    "#### Not\n",
    "Get metodu ile verileri getirirken eğer bu key değeri sözlükte yer almıyorsa hata vermez. Fakat [ ] ile getirmeye çalıştığımızda hata verir"
   ]
  },
  {
   "cell_type": "code",
   "execution_count": 78,
   "id": "c17ccde7",
   "metadata": {},
   "outputs": [],
   "source": [
    "sozluk.get(\"sinif\")"
   ]
  },
  {
   "cell_type": "code",
   "execution_count": 79,
   "id": "4e89bb0b",
   "metadata": {},
   "outputs": [
    {
     "ename": "KeyError",
     "evalue": "'sinif'",
     "output_type": "error",
     "traceback": [
      "\u001b[0;31m---------------------------------------------------------------------------\u001b[0m",
      "\u001b[0;31mKeyError\u001b[0m                                  Traceback (most recent call last)",
      "\u001b[0;32m/var/folders/__/680ncrcs6xsdlnmh1z3k4fz40000gn/T/ipykernel_3475/1842577673.py\u001b[0m in \u001b[0;36m<module>\u001b[0;34m\u001b[0m\n\u001b[0;32m----> 1\u001b[0;31m \u001b[0msozluk\u001b[0m\u001b[0;34m[\u001b[0m\u001b[0;34m\"sinif\"\u001b[0m\u001b[0;34m]\u001b[0m\u001b[0;34m\u001b[0m\u001b[0;34m\u001b[0m\u001b[0m\n\u001b[0m",
      "\u001b[0;31mKeyError\u001b[0m: 'sinif'"
     ]
    }
   ],
   "source": [
    "sozluk[\"sinif\"]"
   ]
  },
  {
   "cell_type": "code",
   "execution_count": 80,
   "id": "3ed23777",
   "metadata": {},
   "outputs": [
    {
     "data": {
      "text/plain": [
       "dict_values(['Mert', 'S.Demir', 25, ['Bilg. Öğr.', 'Bilg. Müh.']])"
      ]
     },
     "execution_count": 80,
     "metadata": {},
     "output_type": "execute_result"
    }
   ],
   "source": [
    "# Values: Key karşılığı olan verileri getirir.\n",
    "sozluk.values()"
   ]
  },
  {
   "cell_type": "code",
   "execution_count": 81,
   "id": "73fa07cb",
   "metadata": {},
   "outputs": [
    {
     "data": {
      "text/plain": [
       "dict_keys(['ad', 'soyad', 'yas', 'bolum'])"
      ]
     },
     "execution_count": 81,
     "metadata": {},
     "output_type": "execute_result"
    }
   ],
   "source": [
    "# Keys: Dict içerisindeki anahtar değerleri getirir\n",
    "sozluk.keys()"
   ]
  },
  {
   "cell_type": "code",
   "execution_count": 82,
   "id": "955e5da5",
   "metadata": {},
   "outputs": [
    {
     "data": {
      "text/plain": [
       "dict_items([('ad', 'Mert'), ('soyad', 'S.Demir'), ('yas', 25), ('bolum', ['Bilg. Öğr.', 'Bilg. Müh.'])])"
      ]
     },
     "execution_count": 82,
     "metadata": {},
     "output_type": "execute_result"
    }
   ],
   "source": [
    "# İtems: Dict içerisindeki tüm değerleri getirir.\n",
    "sozluk.items()"
   ]
  },
  {
   "cell_type": "code",
   "execution_count": 85,
   "id": "f3e5941c",
   "metadata": {},
   "outputs": [
    {
     "data": {
      "text/plain": [
       "{'ad': 'Mert', 'soyad': 'S.Demir', 'yas': 25}"
      ]
     },
     "execution_count": 85,
     "metadata": {},
     "output_type": "execute_result"
    }
   ],
   "source": [
    "# Pop: Belirtilen değeri siler\n",
    "sozluk.pop(\"bolum\")\n",
    "sozluk"
   ]
  },
  {
   "cell_type": "code",
   "execution_count": 86,
   "id": "be02009f",
   "metadata": {},
   "outputs": [
    {
     "data": {
      "text/plain": [
       "{'ad': 'Mert', 'soyad': 'S.Demir'}"
      ]
     },
     "execution_count": 86,
     "metadata": {},
     "output_type": "execute_result"
    }
   ],
   "source": [
    "# Popitem: En son eklenen değeri siler\n",
    "sozluk.popitem()\n",
    "sozluk"
   ]
  },
  {
   "cell_type": "code",
   "execution_count": 90,
   "id": "938bed7d",
   "metadata": {},
   "outputs": [
    {
     "name": "stdout",
     "output_type": "stream",
     "text": [
      "Mustang\n"
     ]
    }
   ],
   "source": [
    "# Setdefault: Belirtilen anahtar ve karşılığındaki veriyi getirir\n",
    "# Eğer belirtilen anahtar yoksa anahtarın yanındaki değeri döndürür\n",
    "# ve seçilmiş olan dict'in içerisine ekler.\n",
    "car = {\n",
    "    \"brand\": \"Ford\",\n",
    "    \"model\": \"Mustang\",\n",
    "    \"year\": 1964\n",
    "}\n",
    "x = car.setdefault(\"model\", \"Bronco\")\n",
    "print(x)"
   ]
  },
  {
   "cell_type": "code",
   "execution_count": 92,
   "id": "1b4bbd33",
   "metadata": {},
   "outputs": [
    {
     "name": "stdout",
     "output_type": "stream",
     "text": [
      "red\n"
     ]
    }
   ],
   "source": [
    "# car isimli tanımlı olan dict'in içerisindeki 'color' adında bir \n",
    "# key olmadığından dolayı 'red' verisini döndürdü. (x içerisinde)\n",
    "x = car.setdefault(\"color\", \"red\")\n",
    "print(x)"
   ]
  },
  {
   "cell_type": "code",
   "execution_count": 93,
   "id": "365779a7",
   "metadata": {},
   "outputs": [
    {
     "data": {
      "text/plain": [
       "{'brand': 'Ford', 'model': 'Mustang', 'year': 1964, 'color': 'red'}"
      ]
     },
     "execution_count": 93,
     "metadata": {},
     "output_type": "execute_result"
    }
   ],
   "source": [
    "car"
   ]
  },
  {
   "cell_type": "code",
   "execution_count": 94,
   "id": "e5bf0d02",
   "metadata": {},
   "outputs": [],
   "source": [
    "# Update"
   ]
  },
  {
   "cell_type": "markdown",
   "id": "120d3018",
   "metadata": {},
   "source": [
    "Update fonksiyonu varolan bir anahtar girilirse verisini güncellememizi, olmayan bir anahtar girilirse bu anahtarı ve veriyi sözlüğe eklememizi sağlar."
   ]
  },
  {
   "cell_type": "code",
   "execution_count": 101,
   "id": "435e3a12",
   "metadata": {},
   "outputs": [
    {
     "name": "stdout",
     "output_type": "stream",
     "text": [
      "{'brand': 'Ford', 'model': 'Mustang', 'year': 2000, 'color': 'red'}\n"
     ]
    },
    {
     "data": {
      "text/plain": [
       "{'brand': 'Ford', 'model': 'Mustang', 'year': 2005, 'color': 'red'}"
      ]
     },
     "execution_count": 101,
     "metadata": {},
     "output_type": "execute_result"
    }
   ],
   "source": [
    "print(car)\n",
    "car.update({\"year\":2005})\n",
    "car"
   ]
  },
  {
   "cell_type": "code",
   "execution_count": 102,
   "id": "98ff9258",
   "metadata": {},
   "outputs": [
    {
     "data": {
      "text/plain": [
       "{'ad': 'Mert', 'soyad': 'S.Demir'}"
      ]
     },
     "execution_count": 102,
     "metadata": {},
     "output_type": "execute_result"
    }
   ],
   "source": [
    "sozluk"
   ]
  },
  {
   "cell_type": "code",
   "execution_count": 104,
   "id": "51d8ca23",
   "metadata": {},
   "outputs": [
    {
     "data": {
      "text/plain": [
       "dict_items([('ad', 'Mert'), ('soyad', 'S.Demir')])"
      ]
     },
     "execution_count": 104,
     "metadata": {},
     "output_type": "execute_result"
    }
   ],
   "source": [
    "sozluk.items()"
   ]
  },
  {
   "cell_type": "code",
   "execution_count": 109,
   "id": "5194c4fe",
   "metadata": {},
   "outputs": [],
   "source": [
    "kullanicilar={\n",
    "    \"KullanıcıAdları\":(\"root\",\"admin\",\"mert\",\"user\"),\n",
    "    \"şifreler\":(\"ase145\",\"123!asd\",\"dsf43!\",\"yt421f\")}"
   ]
  },
  {
   "cell_type": "code",
   "execution_count": 110,
   "id": "0bf4318a",
   "metadata": {},
   "outputs": [
    {
     "data": {
      "text/plain": [
       "('root', 'admin', 'mert', 'user')"
      ]
     },
     "execution_count": 110,
     "metadata": {},
     "output_type": "execute_result"
    }
   ],
   "source": [
    "kullanicilar[\"KullanıcıAdları\"]"
   ]
  },
  {
   "cell_type": "code",
   "execution_count": 111,
   "id": "51d840c4",
   "metadata": {},
   "outputs": [
    {
     "data": {
      "text/plain": [
       "dict_values([('root', 'admin', 'mert', 'user'), ('ase145', '123!asd', 'dsf43!', 'yt421f')])"
      ]
     },
     "execution_count": 111,
     "metadata": {},
     "output_type": "execute_result"
    }
   ],
   "source": [
    "kullanicilar.values()"
   ]
  },
  {
   "cell_type": "code",
   "execution_count": 112,
   "id": "9b0322a1",
   "metadata": {},
   "outputs": [
    {
     "data": {
      "text/plain": [
       "('ase145', '123!asd', 'dsf43!', 'yt421f')"
      ]
     },
     "execution_count": 112,
     "metadata": {},
     "output_type": "execute_result"
    }
   ],
   "source": [
    "kullanicilar[\"şifreler\"]"
   ]
  },
  {
   "cell_type": "code",
   "execution_count": 121,
   "id": "3b672985",
   "metadata": {},
   "outputs": [
    {
     "data": {
      "text/plain": [
       "'root'"
      ]
     },
     "execution_count": 121,
     "metadata": {},
     "output_type": "execute_result"
    }
   ],
   "source": [
    "kullanicilar[\"KullanıcıAdları\"][0]"
   ]
  },
  {
   "cell_type": "code",
   "execution_count": 122,
   "id": "2894b900",
   "metadata": {},
   "outputs": [
    {
     "data": {
      "text/plain": [
       "'ase145'"
      ]
     },
     "execution_count": 122,
     "metadata": {},
     "output_type": "execute_result"
    }
   ],
   "source": [
    "kullanicilar[\"şifreler\"][0]"
   ]
  },
  {
   "cell_type": "code",
   "execution_count": null,
   "id": "f2cd7207",
   "metadata": {},
   "outputs": [],
   "source": [
    "def sifre()"
   ]
  },
  {
   "cell_type": "markdown",
   "id": "9fb26560",
   "metadata": {},
   "source": []
  },
  {
   "cell_type": "markdown",
   "id": "9683051a",
   "metadata": {},
   "source": [
    "## Hafta 6"
   ]
  },
  {
   "cell_type": "markdown",
   "id": "033558ce",
   "metadata": {},
   "source": [
    "### Fonksiyonlar"
   ]
  },
  {
   "cell_type": "markdown",
   "id": "a58ed567",
   "metadata": {},
   "source": [
    "Fonksiyon kullanmak sayesinde:\n",
    "- Aynı kodu defalarca yazmak gerekmez.\n",
    "- Tekrarlama yüzünden doğacak hatalar ortadan kalkar.\n",
    "- Bellek (RAM) gereksiz yere dolmaz. \n",
    "- Kod parçası onlarca kere tekrarlanmak yerine bir kere yazılır.\n",
    "- Programcı küçük ayrıntılara tekrar tekrar kafa yormak zorunda kalmaz.\n",
    "- İşleri küçük birimlere bölmek, programlama hatalarını bulmayı kolaylaştırır.\n",
    "- Programlama dilinin çekirdek tanımında bulunmayan üst seviye işlemleri tek komutla yapmayı sağlar.\n",
    "- Fonksiyon kütüphaneleri, uzmanlaşmış programcılar tarafından hızlı ve verimli hale getirilebilir.\n",
    "Bu faydalar sadece Python değil, her türlü programlama dili için geçerlidir.\n",
    "def fonksiyon_adı(parametre1,parametre2..... (opsiyonel)):\n",
    "        Fonksiyon bloğu\n",
    "    Yapılacak işlemler\n",
    "        dönüş değeri - Opsiyonel"
   ]
  },
  {
   "cell_type": "code",
   "execution_count": 1,
   "id": "649d9101",
   "metadata": {},
   "outputs": [],
   "source": [
    "#Kendisine gönderilen iki sayının toplamını bulup ekrana yazdıran fonksiyonu yazınız ve fonksiyonu çağırınız.\n",
    "\n",
    "def toplam(s1,s2):\n",
    "  print(s1+s2)"
   ]
  },
  {
   "cell_type": "code",
   "execution_count": 2,
   "id": "66688b88",
   "metadata": {},
   "outputs": [
    {
     "name": "stdout",
     "output_type": "stream",
     "text": [
      "6\n"
     ]
    }
   ],
   "source": [
    "toplam(4,2)"
   ]
  },
  {
   "cell_type": "code",
   "execution_count": 3,
   "id": "026c9aeb",
   "metadata": {},
   "outputs": [
    {
     "name": "stdout",
     "output_type": "stream",
     "text": [
      "9\n"
     ]
    }
   ],
   "source": [
    "sayi1=5\n",
    "sayi2=4\n",
    "toplam(sayi1,sayi2)"
   ]
  },
  {
   "cell_type": "code",
   "execution_count": 5,
   "id": "e1d4f53a",
   "metadata": {},
   "outputs": [
    {
     "name": "stdout",
     "output_type": "stream",
     "text": [
      "Sayı 1:10\n",
      "Sayı 2:20\n",
      "30\n"
     ]
    }
   ],
   "source": [
    "s1=int(input(\"Sayı 1:\"))\n",
    "s2=int(input(\"Sayı 2:\"))\n",
    "toplam(s1,s2)"
   ]
  },
  {
   "cell_type": "code",
   "execution_count": 8,
   "id": "f0688689",
   "metadata": {},
   "outputs": [],
   "source": [
    "#Klavyeden girilen iki sayının toplamını bulup ekrana yazdıran fonksiyonu yazınız ve fonksiyonu çağırınız.\n",
    "\n",
    "def toplam():\n",
    "  sayi1=int(input(\"Sayı 1:\"))\n",
    "  sayi2=int(input(\"Sayı 2:\"))\n",
    "  print(sayi1+sayi2)"
   ]
  },
  {
   "cell_type": "code",
   "execution_count": 9,
   "id": "1d259f9a",
   "metadata": {},
   "outputs": [
    {
     "name": "stdout",
     "output_type": "stream",
     "text": [
      "Sayı 1:10\n",
      "Sayı 2:20\n",
      "30\n"
     ]
    }
   ],
   "source": [
    "toplam()"
   ]
  },
  {
   "cell_type": "code",
   "execution_count": 10,
   "id": "e07b5cce",
   "metadata": {},
   "outputs": [],
   "source": [
    "#Klavyeden girilen iki sayının toplamını bulup toplamı geri döndüren fonksiyonu yazınız ve fonksiyonu çağırınız.\n",
    "\n",
    "def toplam2():\n",
    "  sayi1=int(input(\"Sayı 1:\"))\n",
    "  sayi2=int(input(\"Sayı 2:\"))\n",
    "  return sayi1+sayi2"
   ]
  },
  {
   "cell_type": "code",
   "execution_count": 11,
   "id": "7fb1f928",
   "metadata": {},
   "outputs": [
    {
     "name": "stdout",
     "output_type": "stream",
     "text": [
      "Sayı 1:4\n",
      "Sayı 2:6\n"
     ]
    },
    {
     "data": {
      "text/plain": [
       "10"
      ]
     },
     "execution_count": 11,
     "metadata": {},
     "output_type": "execute_result"
    }
   ],
   "source": [
    "toplam2() \n",
    "#colab sayesinde çıktıyı out edebildik. IDE içerisinde böyle bir kullanım mümkün değildir\n",
    "#IDE kullanırken mutlaka print içerisinde yazmak zorundayız"
   ]
  },
  {
   "cell_type": "code",
   "execution_count": 12,
   "id": "086fefe6",
   "metadata": {},
   "outputs": [
    {
     "name": "stdout",
     "output_type": "stream",
     "text": [
      "Sayı 1:4\n",
      "Sayı 2:6\n",
      "10\n"
     ]
    }
   ],
   "source": [
    "print(toplam2())"
   ]
  },
  {
   "cell_type": "code",
   "execution_count": 13,
   "id": "38c3b240",
   "metadata": {},
   "outputs": [],
   "source": [
    "#Kendisine gönderilen iki sayının toplamını bulup toplamı geri döndüren fonksiyonu yazınız ve fonksiyonu çağırınız.\n",
    "\n",
    "def toplam2(x,y):\n",
    "  return x+y"
   ]
  },
  {
   "cell_type": "code",
   "execution_count": 14,
   "id": "4a853297",
   "metadata": {},
   "outputs": [
    {
     "name": "stdout",
     "output_type": "stream",
     "text": [
      "11\n"
     ]
    }
   ],
   "source": [
    "print(toplam2(4,7))"
   ]
  },
  {
   "cell_type": "code",
   "execution_count": 15,
   "id": "7dbb5c6c",
   "metadata": {},
   "outputs": [],
   "source": [
    "#Klavyeden girilen iki sayının birbirine tam bölünüp bölünemediğinin çıktısını veren kodu yazınız\n",
    "#Mod alma : % işareti ile kontrol edilir\n",
    "#Eğer mod sonucu 0 ise \"bölünebilir\", değilse \"bölünemez\"\n",
    "\n",
    "def bolunmeDurumu():\n",
    "  bolunen=eval(input(\"Bölünen:\"))\n",
    "  bolen=eval(input(\"Bölen:\"))\n",
    "  if bolunen%bolen==0: \n",
    "    #bolunen/bolen sonucunun kalanı 0 değerine eşitse if bloğu çalışır\n",
    "    print(\"Bölünebilir\")\n",
    "  else:\n",
    "    print(\"Bölünemez\")"
   ]
  },
  {
   "cell_type": "code",
   "execution_count": 16,
   "id": "0910d112",
   "metadata": {},
   "outputs": [
    {
     "name": "stdout",
     "output_type": "stream",
     "text": [
      "Bölünen:15\n",
      "Bölen:3\n",
      "Bölünebilir\n"
     ]
    }
   ],
   "source": [
    "bolunmeDurumu()"
   ]
  },
  {
   "cell_type": "code",
   "execution_count": 17,
   "id": "55fa6608",
   "metadata": {},
   "outputs": [
    {
     "name": "stdout",
     "output_type": "stream",
     "text": [
      "Bölünen:14.4\n",
      "Bölen:5.2\n",
      "Bölünemez\n"
     ]
    }
   ],
   "source": [
    "bolunmeDurumu()"
   ]
  },
  {
   "cell_type": "code",
   "execution_count": 18,
   "id": "1491c807",
   "metadata": {},
   "outputs": [],
   "source": [
    "#Klavyeden girilen para miktarını banknotlara ayıran programı yazınız. \n",
    "#Banknotlar:200,100,50,20,10,5,1\n",
    "#Ör: \n",
    "#26 -> 1 tane 20, 1 tane 5, 1 tane 1\n",
    "#358-> 1 tane 200, 1 tane 100, 1 tane 50, 1 tane 5, 3 tane 1\n",
    "#555 -> 2 tane 200, 1 tane 100, 1 tane 50, 1 tane 5\n",
    "\n",
    "def banknot():\n",
    "  banknotlar=[200,100,50,20,10,5,1]\n",
    "  miktarlar=list() #miktarlar=[] #miktarlar isminde boş bir liste tanımladık\n",
    "  para=int(input(\"Para:\"))\n",
    "  for b in banknotlar:\n",
    "    miktar=para//b\n",
    "    miktarlar.append(miktar)\n",
    "    if miktar>0: #if bloğu yazılmasa da sorun olmaz. 0 değeri çarpmada etkisiz elemandır\n",
    "      para-=miktar*b\n",
    "  print(miktarlar)"
   ]
  },
  {
   "cell_type": "code",
   "execution_count": 19,
   "id": "009b2734",
   "metadata": {},
   "outputs": [
    {
     "name": "stdout",
     "output_type": "stream",
     "text": [
      "Para:26\n",
      "[0, 0, 0, 1, 0, 1, 1]\n"
     ]
    }
   ],
   "source": [
    "banknot()"
   ]
  },
  {
   "cell_type": "code",
   "execution_count": 20,
   "id": "f8fbf22b",
   "metadata": {},
   "outputs": [],
   "source": [
    "def banknot():\n",
    "  banknotlar=[200,100,50,20,10,5,1]\n",
    "  miktarlar=list() #miktarlar=[] #miktarlar isminde boş bir liste tanımladık\n",
    "  para=int(input(\"Para:\"))\n",
    "  for b in banknotlar:\n",
    "    miktar=para//b\n",
    "    miktarlar.append(miktar)\n",
    "    para-=miktar*b\n",
    "  print(miktarlar)"
   ]
  },
  {
   "cell_type": "code",
   "execution_count": 21,
   "id": "a6361270",
   "metadata": {},
   "outputs": [
    {
     "name": "stdout",
     "output_type": "stream",
     "text": [
      "Para:26\n",
      "[0, 0, 0, 1, 0, 1, 1]\n"
     ]
    }
   ],
   "source": [
    "banknot()"
   ]
  },
  {
   "cell_type": "code",
   "execution_count": 23,
   "id": "8b870120",
   "metadata": {},
   "outputs": [
    {
     "name": "stdout",
     "output_type": "stream",
     "text": [
      "Para:358\n",
      "[1, 1, 1, 0, 0, 1, 3]\n"
     ]
    }
   ],
   "source": [
    "banknot()"
   ]
  },
  {
   "cell_type": "code",
   "execution_count": 24,
   "id": "18176977",
   "metadata": {},
   "outputs": [
    {
     "name": "stdout",
     "output_type": "stream",
     "text": [
      "Para:555\n",
      "[2, 1, 1, 0, 0, 1, 0]\n"
     ]
    }
   ],
   "source": [
    "banknot()"
   ]
  },
  {
   "cell_type": "code",
   "execution_count": 25,
   "id": "3ae20fbc",
   "metadata": {},
   "outputs": [],
   "source": [
    "def banknot():\n",
    "  banknotlar=[200,100,50,20,10,5,1]\n",
    "  miktarlar=list() #miktarlar=[] #miktarlar isminde boş bir liste tanımladık\n",
    "  para=int(input(\"Para:\"))\n",
    "  for b in banknotlar:\n",
    "    miktar=para//b\n",
    "    miktarlar.append(miktar)\n",
    "    para-=miktar*b\n",
    "  for i in range(len(banknotlar)): #i=0,1,2,...,6\n",
    "    if miktarlar[i]!=0:\n",
    "      print(miktarlar[i],\"tane\",banknotlar[i],end=\",\")"
   ]
  },
  {
   "cell_type": "code",
   "execution_count": 26,
   "id": "af68eecb",
   "metadata": {},
   "outputs": [
    {
     "name": "stdout",
     "output_type": "stream",
     "text": [
      "Para:785\n",
      "3 tane 200,1 tane 100,1 tane 50,1 tane 20,1 tane 10,1 tane 5,"
     ]
    }
   ],
   "source": [
    "banknot()"
   ]
  },
  {
   "cell_type": "code",
   "execution_count": 27,
   "id": "015dd401",
   "metadata": {},
   "outputs": [
    {
     "name": "stdout",
     "output_type": "stream",
     "text": [
      "Para:67\n",
      "1 tane 50,1 tane 10,1 tane 5,2 tane 1,"
     ]
    }
   ],
   "source": [
    "banknot()"
   ]
  },
  {
   "cell_type": "code",
   "execution_count": 28,
   "id": "55e183ce",
   "metadata": {},
   "outputs": [],
   "source": [
    "def deneme():\n",
    "  global sayi2\n",
    "  sayi2=5"
   ]
  },
  {
   "cell_type": "code",
   "execution_count": 29,
   "id": "ebd00b8f",
   "metadata": {},
   "outputs": [
    {
     "name": "stdout",
     "output_type": "stream",
     "text": [
      "5\n"
     ]
    }
   ],
   "source": [
    "deneme()\n",
    "print(sayi2)"
   ]
  },
  {
   "cell_type": "code",
   "execution_count": 30,
   "id": "ea5ec6a6",
   "metadata": {},
   "outputs": [],
   "source": [
    "def deneme2():\n",
    "  sayi3=7"
   ]
  },
  {
   "cell_type": "code",
   "execution_count": 31,
   "id": "6061ed94",
   "metadata": {},
   "outputs": [
    {
     "ename": "NameError",
     "evalue": "name 'sayi3' is not defined",
     "output_type": "error",
     "traceback": [
      "\u001b[0;31m---------------------------------------------------------------------------\u001b[0m",
      "\u001b[0;31mNameError\u001b[0m                                 Traceback (most recent call last)",
      "\u001b[0;32m/var/folders/__/680ncrcs6xsdlnmh1z3k4fz40000gn/T/ipykernel_3410/29439069.py\u001b[0m in \u001b[0;36m<module>\u001b[0;34m\u001b[0m\n\u001b[1;32m      1\u001b[0m \u001b[0mdeneme2\u001b[0m\u001b[0;34m(\u001b[0m\u001b[0;34m)\u001b[0m\u001b[0;34m\u001b[0m\u001b[0;34m\u001b[0m\u001b[0m\n\u001b[0;32m----> 2\u001b[0;31m \u001b[0mprint\u001b[0m\u001b[0;34m(\u001b[0m\u001b[0msayi3\u001b[0m\u001b[0;34m)\u001b[0m \u001b[0;31m#global (public) olmadığı yani private olduğu için bu değişkene erişemeyiz\u001b[0m\u001b[0;34m\u001b[0m\u001b[0;34m\u001b[0m\u001b[0m\n\u001b[0m",
      "\u001b[0;31mNameError\u001b[0m: name 'sayi3' is not defined"
     ]
    }
   ],
   "source": [
    "deneme2()\n",
    "print(sayi3) #global (public) olmadığı yani private olduğu için bu değişkene erişemeyiz "
   ]
  },
  {
   "cell_type": "code",
   "execution_count": 32,
   "id": "8eff9f44",
   "metadata": {},
   "outputs": [],
   "source": [
    "def deneme3():\n",
    "  global sayi3\n",
    "  sayi3=10"
   ]
  },
  {
   "cell_type": "code",
   "execution_count": 33,
   "id": "780ff0a0",
   "metadata": {},
   "outputs": [
    {
     "name": "stdout",
     "output_type": "stream",
     "text": [
      "10\n"
     ]
    }
   ],
   "source": [
    "deneme3()\n",
    "print(sayi3)"
   ]
  },
  {
   "cell_type": "code",
   "execution_count": null,
   "id": "a8b339cf",
   "metadata": {},
   "outputs": [],
   "source": [
    "# Düzenlenecek..."
   ]
  }
 ],
 "metadata": {
  "kernelspec": {
   "display_name": "Python 3 (ipykernel)",
   "language": "python",
   "name": "python3"
  },
  "language_info": {
   "codemirror_mode": {
    "name": "ipython",
    "version": 3
   },
   "file_extension": ".py",
   "mimetype": "text/x-python",
   "name": "python",
   "nbconvert_exporter": "python",
   "pygments_lexer": "ipython3",
   "version": "3.9.13"
  }
 },
 "nbformat": 4,
 "nbformat_minor": 5
}
